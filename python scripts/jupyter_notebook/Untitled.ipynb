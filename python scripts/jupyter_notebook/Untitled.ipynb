{
 "cells": [
  {
   "cell_type": "markdown",
   "id": "27027fb7",
   "metadata": {},
   "source": [
    "# analyzing my youtube history"
   ]
  },
  {
   "cell_type": "markdown",
   "id": "ba39cdcd",
   "metadata": {},
   "source": [
    "In this notebook I will analyze my youtube history and my music history. \n",
    "\n",
    "Make sure to install the following packages if they are not installed yet: \n",
    "\n",
    "- lxml \n",
    "- pafy \n",
    "- youtube-dl\n",
    "- wordcloud\n",
    "- pandas \n",
    "- numpy "
   ]
  },
  {
   "cell_type": "code",
   "execution_count": 8,
   "id": "26a3955c",
   "metadata": {
    "scrolled": true
   },
   "outputs": [],
   "source": [
    "# updated all packages, however, as this does not need to be done every time the code lines are for now turned into comments: \n",
    "# pip install lxml\n",
    "# pip install pafy\n",
    "# pip install youtube-dl\n",
    "# pip install wordcloud"
   ]
  },
  {
   "cell_type": "code",
   "execution_count": 5,
   "id": "6f30e289",
   "metadata": {},
   "outputs": [],
   "source": [
    "# import all required packages \n",
    "from lxml import html\n",
    "import pafy\n",
    "import pandas as pd\n",
    "import os\n",
    "import numpy as np"
   ]
  }
 ],
 "metadata": {
  "kernelspec": {
   "display_name": "Python 3 (ipykernel)",
   "language": "python",
   "name": "python3"
  },
  "language_info": {
   "codemirror_mode": {
    "name": "ipython",
    "version": 3
   },
   "file_extension": ".py",
   "mimetype": "text/x-python",
   "name": "python",
   "nbconvert_exporter": "python",
   "pygments_lexer": "ipython3",
   "version": "3.9.12"
  }
 },
 "nbformat": 4,
 "nbformat_minor": 5
}
